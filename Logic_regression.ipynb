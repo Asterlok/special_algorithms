{
  "nbformat": 4,
  "nbformat_minor": 0,
  "metadata": {
    "colab": {
      "name": "Logic_regression.ipynb",
      "provenance": [],
      "authorship_tag": "ABX9TyPkc/BK5NfO/DWNFRM44psy",
      "include_colab_link": true
    },
    "kernelspec": {
      "name": "python3",
      "display_name": "Python 3"
    },
    "language_info": {
      "name": "python"
    }
  },
  "cells": [
    {
      "cell_type": "markdown",
      "metadata": {
        "id": "view-in-github",
        "colab_type": "text"
      },
      "source": [
        "<a href=\"https://colab.research.google.com/github/Asterlok/special_algorithms/blob/main/Logic_regression.ipynb\" target=\"_parent\"><img src=\"https://colab.research.google.com/assets/colab-badge.svg\" alt=\"Open In Colab\"/></a>"
      ]
    },
    {
      "cell_type": "markdown",
      "source": [
        "В датасете `bank.csv` представлены (анонимизированные) данные банка, в которых указаны характеристики клиента, информация о звонках и решении клиента –\n",
        "принять предложение банка или нет."
      ],
      "metadata": {
        "id": "aNGQuqjDqW3C"
      }
    },
    {
      "cell_type": "markdown",
      "source": [
        "**Задача** : обучить модель и предсказывать согласятся\n",
        "ли потенциальные клиенты с некоторыми характеристиками на \n",
        "предложение банка."
      ],
      "metadata": {
        "id": "bH74HNLVqshD"
      }
    },
    {
      "cell_type": "markdown",
      "source": [
        "Mounted at gdrive\n"
      ],
      "metadata": {
        "id": "fdRU5zRBxcu_"
      }
    },
    {
      "cell_type": "code",
      "source": [
        "from google.colab import drive\n",
        "drive.mount('/content/gdrive')"
      ],
      "metadata": {
        "id": "WXjiQvIoquCu"
      },
      "execution_count": null,
      "outputs": []
    },
    {
      "cell_type": "markdown",
      "source": [
        "Mounted libs"
      ],
      "metadata": {
        "id": "PTYTttYNxn9v"
      }
    },
    {
      "cell_type": "code",
      "source": [
        "import pandas as pd\n",
        "import matplotlib.pyplot as plt\n",
        "from sklearn.linear_model import LogisticRegression\n",
        "from sklearn.model_selection import train_test_split\n"
      ],
      "metadata": {
        "id": "UGNpxT8MwwRG"
      },
      "execution_count": 4,
      "outputs": []
    },
    {
      "cell_type": "code",
      "source": [
        "ds = pd.read_csv(\"/content/gdrive/MyDrive/dataset/bank.csv\", sep=\";\")"
      ],
      "metadata": {
        "id": "lF_3sPjiwvlU"
      },
      "execution_count": 3,
      "outputs": []
    },
    {
      "cell_type": "markdown",
      "source": [
        "Данные представляют собой значение признаков и результирующее значение – **y**, *да или нет*. \n",
        "Я разделяю данные на 2 датасета: признаки и результат."
      ],
      "metadata": {
        "id": "eeH0AzGvxSAZ"
      }
    },
    {
      "cell_type": "code",
      "source": [
        "bank_features = ds.drop('y', axis = 1)\n",
        "bank_output = ds.y"
      ],
      "metadata": {
        "id": "IxntIYhCynBw"
      },
      "execution_count": 6,
      "outputs": []
    },
    {
      "cell_type": "markdown",
      "source": [
        "Использую pandas для массового \n",
        "преобразования значения признаков в числовой набор.\n",
        "Результирующий столбец вручную."
      ],
      "metadata": {
        "id": "8x0X78UPyyHH"
      }
    },
    {
      "cell_type": "markdown",
      "source": [
        "`pandas.get_dummies` -- Convert categorical variable into dummy/indicator variables."
      ],
      "metadata": {
        "id": "aI-0QcAgzdVv"
      }
    },
    {
      "cell_type": "code",
      "source": [
        "bank_features = pd.get_dummies(bank_features)\n",
        "# Результат также переводим в число\n",
        "bank_output = bank_output.replace({\n",
        " 'no': 0,\n",
        " 'yes': 1 })"
      ],
      "metadata": {
        "id": "adEkdQYhy7aB"
      },
      "execution_count": 12,
      "outputs": []
    },
    {
      "cell_type": "code",
      "source": [
        "# Разбиваем датасет на части - 75% для обучения, 25% - для проверки\n",
        "X_train, X_test, y_train, y_test =  train_test_split(bank_features, bank_output, test_size=0.25, random_state=42)"
      ],
      "metadata": {
        "id": "TJ3oNdkkzlyq"
      },
      "execution_count": 14,
      "outputs": []
    },
    {
      "cell_type": "markdown",
      "source": [
        "`sklearn.linear_model.LogisticRegression`"
      ],
      "metadata": {
        "id": "UK9yWNwMzxtN"
      }
    },
    {
      "cell_type": "markdown",
      "source": [
        "`solver`\n",
        "Algorithm to use in the optimization problem. Default is ‘lbfgs’. \n",
        "\n",
        "`C` - float, default=1.0\n",
        "Inverse of regularization strength; must be a positive float. Like in support vector machines, smaller values specify stronger regularization.\n",
        "\n",
        "For small datasets, `‘liblinear’` is a good choice;\n",
        "`liblinear’` is limited to one-versus-rest schemes."
      ],
      "metadata": {
        "id": "IG4nV6My0E8C"
      }
    },
    {
      "cell_type": "code",
      "source": [
        "# Создаем модель\n",
        "bank_model = LogisticRegression(C = 1e6, solver='liblinear')\n",
        "bank_model.fit(X_train, y_train)"
      ],
      "metadata": {
        "colab": {
          "base_uri": "https://localhost:8080/"
        },
        "id": "6SfKHU1-zyuA",
        "outputId": "5eaa25fa-bf14-4f65-8e5e-b69feefc66b0"
      },
      "execution_count": 15,
      "outputs": [
        {
          "output_type": "execute_result",
          "data": {
            "text/plain": [
              "LogisticRegression(C=1000000.0, solver='liblinear')"
            ]
          },
          "metadata": {},
          "execution_count": 15
        }
      ]
    },
    {
      "cell_type": "markdown",
      "source": [
        "– только 10 часть клиентов согласилась"
      ],
      "metadata": {
        "id": "vIK1g06_1Aa4"
      }
    },
    {
      "cell_type": "code",
      "source": [
        "# Рассчитываем полученную точность\n",
        "accuracy_score = bank_model.score(X_train, y_train)\n",
        "print(accuracy_score)"
      ],
      "metadata": {
        "colab": {
          "base_uri": "https://localhost:8080/"
        },
        "id": "hyVpwzWj07V6",
        "outputId": "eb9e2f7a-3bee-4bfa-d6ba-3a5de9ad22dc"
      },
      "execution_count": 16,
      "outputs": [
        {
          "output_type": "stream",
          "name": "stdout",
          "text": [
            "0.9085545722713865\n"
          ]
        }
      ]
    },
    {
      "cell_type": "code",
      "source": [
        "# Демонстрация проблем с данными - данные не равномерные, что приводит к невысокой точности\n",
        "plt.bar([0, 1], [len(bank_output[bank_output == 0]), len(bank_output[bank_output == \n",
        "1])])\n",
        "plt.xticks([0, 1])\n",
        "plt.xlabel('Class')\n",
        "plt.ylabel('Count')\n",
        "plt.show()"
      ],
      "metadata": {
        "colab": {
          "base_uri": "https://localhost:8080/",
          "height": 279
        },
        "id": "kyD84cC61ETG",
        "outputId": "7174fffa-ed8b-4c37-d6f6-3ed730050e77"
      },
      "execution_count": 19,
      "outputs": [
        {
          "output_type": "display_data",
          "data": {
            "text/plain": [
              "<Figure size 432x288 with 1 Axes>"
            ],
            "image/png": "[encoded data removed]"
          },
          "metadata": {
            "needs_background": "light"
          }
        }
      ]
    },
    {
      "cell_type": "code",
      "source": [
        "# Выводим относительное количество успешной продажи предложения банка\n",
        "print('Positive cases: {:.3f}% of all'.format(bank_output.sum() / len(bank_output) * 100))"
      ],
      "metadata": {
        "colab": {
          "base_uri": "https://localhost:8080/"
        },
        "id": "wfhLxPRB1KzA",
        "outputId": "0afc6abc-106d-4571-ab85-9abb41ad9f34"
      },
      "execution_count": 20,
      "outputs": [
        {
          "output_type": "stream",
          "name": "stdout",
          "text": [
            "Positive cases: 11.524% of all\n"
          ]
        }
      ]
    },
    {
      "cell_type": "markdown",
      "source": [
        "Проверка модели на тех самых 25%:"
      ],
      "metadata": {
        "id": "UBX_kAkg1ZhP"
      }
    },
    {
      "cell_type": "code",
      "source": [
        "# На тестовой части проводим прогнозирование\n",
        "predictions = bank_model.predict(X_test)\n",
        "# Сверяем прогнозы с данными и выводим отчет\n",
        "from sklearn.metrics import classification_report\n",
        "print(classification_report(y_test,predictions))"
      ],
      "metadata": {
        "colab": {
          "base_uri": "https://localhost:8080/"
        },
        "id": "nn161-bP1U7S",
        "outputId": "4e6a3ce4-9588-435e-8346-e5ef3b2a3b4a"
      },
      "execution_count": 21,
      "outputs": [
        {
          "output_type": "stream",
          "name": "stdout",
          "text": [
            "              precision    recall  f1-score   support\n",
            "\n",
            "           0       0.92      0.97      0.94      1006\n",
            "           1       0.57      0.30      0.40       125\n",
            "\n",
            "    accuracy                           0.90      1131\n",
            "   macro avg       0.74      0.64      0.67      1131\n",
            "weighted avg       0.88      0.90      0.88      1131\n",
            "\n"
          ]
        }
      ]
    }
  ]
}