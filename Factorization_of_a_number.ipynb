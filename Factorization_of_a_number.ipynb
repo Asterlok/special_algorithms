{
  "nbformat": 4,
  "nbformat_minor": 0,
  "metadata": {
    "colab": {
      "name": "Factorization of a number.ipynb",
      "provenance": [],
      "authorship_tag": "ABX9TyP+pLUgfG9FGR99ina74ZeW",
      "include_colab_link": true
    },
    "kernelspec": {
      "name": "python3",
      "display_name": "Python 3"
    },
    "language_info": {
      "name": "python"
    }
  },
  "cells": [
    {
      "cell_type": "markdown",
      "metadata": {
        "id": "view-in-github",
        "colab_type": "text"
      },
      "source": [
        "<a href=\"https://colab.research.google.com/github/Asterlok/special_algorithms/blob/main/Factorization_of_a_number.ipynb\" target=\"_parent\"><img src=\"https://colab.research.google.com/assets/colab-badge.svg\" alt=\"Open In Colab\"/></a>"
      ]
    },
    {
      "cell_type": "markdown",
      "source": [
        "Возьму модуль `Counter` для подсчёта одинаковых цифр в массиве и `factorial` для быстрого расчёта."
      ],
      "metadata": {
        "id": "vH9JZJcGBnNt"
      }
    },
    {
      "cell_type": "code",
      "source": [
        "from collections import Counter\n",
        "from math import factorial\n"
      ],
      "metadata": {
        "id": "Q3Nd_GmmBlby"
      },
      "execution_count": 29,
      "outputs": []
    },
    {
      "cell_type": "markdown",
      "source": [
        "Факторизация числа.\n"
      ],
      "metadata": {
        "id": "1yCVD-LgCBgc"
      }
    },
    {
      "cell_type": "code",
      "source": [
        "def primfacs(n):\n",
        "   i = 2\n",
        "   primfac = []\n",
        "   # Делители числа помещаются до значения его целого корня \n",
        "   while i**2 <= n:\n",
        "       if n % i == 0:\n",
        "           primfac.append(i)\n",
        "           # уменьшаю исходное число, деля его без остатка\n",
        "           n /= i\n",
        "       # если число n не делится на i без остатка, берём i+1\n",
        "       else:\n",
        "         i +=1\n",
        "   # если остаток - простое число, добавлю последним делителем\n",
        "   if n > 1:\n",
        "       primfac.append(int(n))\n",
        "   return primfac"
      ],
      "metadata": {
        "id": "9U6XnEdLdJR0"
      },
      "execution_count": 28,
      "outputs": []
    },
    {
      "cell_type": "code",
      "source": [
        "for n in range (1, 16, 2):\n",
        "  print(f\"random number: {n} \")\n",
        "  fctr = factorial(n)\n",
        "  print(f\"factorial n: {fctr}\")\n",
        "\n",
        "  factors = primfacs(fctr)\n",
        "  count = Counter(factors)\n",
        "  res = [f'{a}^{b}' if b != 1 else f'{a}' for a, b in count.items()]\n",
        "  str_res = \"*\".join(res)\n",
        "\n",
        "  print(str_res, '\\n')\n",
        "\n",
        "        \n",
        "\n"
      ],
      "metadata": {
        "colab": {
          "base_uri": "https://localhost:8080/"
        },
        "id": "Q2hSrDITMtN8",
        "outputId": "7c67640b-5617-410e-cf64-892ce5dc5c80"
      },
      "execution_count": 70,
      "outputs": [
        {
          "output_type": "stream",
          "name": "stdout",
          "text": [
            "random number: 1 \n",
            "factorial n: 1\n",
            " \n",
            "\n",
            "random number: 3 \n",
            "factorial n: 6\n",
            "2*3 \n",
            "\n",
            "random number: 5 \n",
            "factorial n: 120\n",
            "2^3*3*5 \n",
            "\n",
            "random number: 7 \n",
            "factorial n: 5040\n",
            "2^4*3^2*5*7 \n",
            "\n",
            "random number: 9 \n",
            "factorial n: 362880\n",
            "2^7*3^4*5*7 \n",
            "\n",
            "random number: 11 \n",
            "factorial n: 39916800\n",
            "2^8*3^4*5^2*7*11 \n",
            "\n",
            "random number: 13 \n",
            "factorial n: 6227020800\n",
            "2^10*3^5*5^2*7*11*13 \n",
            "\n",
            "random number: 15 \n",
            "factorial n: 1307674368000\n",
            "2^11*3^6*5^3*7^2*11*13 \n",
            "\n"
          ]
        }
      ]
    },
    {
      "cell_type": "code",
      "source": [
        ""
      ],
      "metadata": {
        "id": "VKR5NJSeb3Eu"
      },
      "execution_count": null,
      "outputs": []
    }
  ]
}